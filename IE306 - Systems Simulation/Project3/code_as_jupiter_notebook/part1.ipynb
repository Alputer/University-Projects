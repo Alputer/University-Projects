{
 "metadata": {
  "language_info": {
   "codemirror_mode": {
    "name": "python",
    "version": 3
   },
   "file_extension": ".py",
   "mimetype": "text/x-python",
   "name": "python",
   "nbconvert_exporter": "python",
   "pygments_lexer": "ipython3",
   "version": "3.8"
  },
  "kernelspec": {
   "name": "python3",
   "language": "python",
   "display_name": "Python 3 (ipykernel)"
  }
 },
 "nbformat_minor": 4,
 "nbformat": 4,
 "cells": [
  {
   "cell_type": "markdown",
   "source": [
    "First, we install simpy library. Then, import the necessary libraries."
   ],
   "metadata": {}
  },
  {
   "cell_type": "code",
   "source": [
    "%pip install simpy"
   ],
   "metadata": {
    "trusted": true,
    "ExecuteTime": {
     "start_time": "2023-05-31T17:14:11.299318Z",
     "end_time": "2023-05-31T17:14:13.133057Z"
    }
   },
   "execution_count": 1,
   "outputs": [
    {
     "name": "stdout",
     "output_type": "stream",
     "text": [
      "Requirement already satisfied: simpy in c:\\users\\user\\ideaprojects\\chatgpt_annotation\\venv\\lib\\site-packages (4.0.1)\n",
      "Note: you may need to restart the kernel to use updated packages.\n"
     ]
    }
   ]
  },
  {
   "cell_type": "code",
   "source": [
    "import random\n",
    "import matplotlib.pyplot as plt\n",
    "import numpy as np\n",
    "import simpy\n",
    "from scipy import stats"
   ],
   "metadata": {
    "trusted": true,
    "ExecuteTime": {
     "start_time": "2023-05-31T17:14:13.131057Z",
     "end_time": "2023-05-31T17:14:13.141056Z"
    }
   },
   "execution_count": 2,
   "outputs": []
  },
  {
   "cell_type": "markdown",
   "source": [
    "Then, we define necessary state variables for the simulation"
   ],
   "metadata": {}
  },
  {
   "cell_type": "code",
   "source": [
    "# Number of jobs in the simulation\n",
    "numberOfJobs = 50000\n",
    "\n",
    "# Number of servers available for processing jobs\n",
    "numberOfServers = 2\n",
    "\n",
    "# Minimum and maximum interarrival time between jobs\n",
    "interarrivalTimeMin = 6.16\n",
    "interarrivalTimeMax = 7.25\n",
    "\n",
    "# Utilization rate of the servers\n",
    "utilizationRate = 0.9\n",
    "\n",
    "# Calculate the service rate based on interarrival time and utilization rate\n",
    "serviceRate = (1 / ((interarrivalTimeMin + interarrivalTimeMax) / 2)) / (utilizationRate * numberOfServers)\n",
    "\n",
    "# Number of repetitions for running the simulation\n",
    "numberOfRepetitions = 30\n",
    "\n",
    "# Time spent by a customer while waiting in the queue for the operator (Queue waiting time Wq)\n",
    "queueWaitingTimes = []\n",
    "\n",
    "# Duration of the conversation between the customer and the operator (Service time)\n",
    "serviceTimes = []\n",
    "\n",
    "# Total waiting time of a customer (Wq + Service time), also known as Sojourn time\n",
    "totalWaitingTimes = []\n",
    "\n",
    "# Keeps the sum of waiting times of all customers in each simulation run\n",
    "totalTimeWaitedForAllCustomers = []\n",
    "\n",
    "# Keep statistics for calculating average number of jobs in the system (L(t))\n",
    "averageNumberOfJobsInTheSystem = []"
   ],
   "metadata": {
    "trusted": true,
    "ExecuteTime": {
     "start_time": "2023-05-31T17:14:13.138058Z",
     "end_time": "2023-05-31T17:14:13.146577Z"
    }
   },
   "execution_count": 3,
   "outputs": []
  },
  {
   "cell_type": "markdown",
   "source": [
    "Then, we create the job class for handling simulation thanks to simpy"
   ],
   "metadata": {}
  },
  {
   "cell_type": "code",
   "source": [
    "################## CREATE JOB CLASS WHICH HANDLES MOST OF THE SIMULATION ITSELF BELOW #########################\n",
    "\n",
    "class Job(object):\n",
    "    def __init__(self, env, operator, jobNumber, repetition):\n",
    "        self.env = env\n",
    "        self.operator = operator\n",
    "        self.jobNumber = jobNumber\n",
    "        self.repetition = repetition  # Which simulation run it is in (first, tenth, etc.)\n",
    "        self.arrivalTime = self.env.now\n",
    "        self.action = env.process(self.requestServer())\n",
    "\n",
    "    def requestServer(self):\n",
    "        # Request the operator resource (server)\n",
    "        with self.operator.request() as req:\n",
    "            yield req\n",
    "            # Calculate the queue waiting time\n",
    "            queueWaitingTimes[self.jobNumber] = self.env.now - self.arrivalTime\n",
    "            yield self.env.process(self.getService())\n",
    "\n",
    "    def getService(self):\n",
    "        # Generate a random service duration based on the service rate\n",
    "        duration = random.expovariate(serviceRate)\n",
    "        yield self.env.timeout(duration)\n",
    "        # Store the service time\n",
    "        serviceTimes[self.jobNumber] = duration\n",
    "        # Calculate the total waiting time for the customer\n",
    "        totalWaitingTimes[self.jobNumber] = self.env.now - self.arrivalTime\n",
    "        # Update the total time waited for all customers in this simulation run\n",
    "        totalTimeWaitedForAllCustomers[repetition] += totalWaitingTimes[self.jobNumber]\n",
    "        # Update the average number of jobs in the system\n",
    "        averageNumberOfJobsInTheSystem[self.jobNumber] += totalTimeWaitedForAllCustomers[repetition] / self.env.now\n",
    "\n",
    "\n",
    "################## CREATE JOB CLASS WHICH HANDLES MOST OF THE SIMULATION ITSELF ABOVE #########################"
   ],
   "metadata": {
    "trusted": true,
    "ExecuteTime": {
     "start_time": "2023-05-31T17:14:13.145056Z",
     "end_time": "2023-05-31T17:14:13.172806Z"
    }
   },
   "execution_count": 4,
   "outputs": []
  },
  {
   "cell_type": "markdown",
   "source": [
    "Then, we create necessary numbers of jobs for our simulation"
   ],
   "metadata": {}
  },
  {
   "cell_type": "code",
   "source": [
    "################### CREATE A JOB GENERATOR FUNCTION BELOW SO THAT NECESSARY NUMBER OF JOBS ARE CREATED FOR THE SIMULATION BELOW ###################### \n",
    "\n",
    "def jobGenerator(env, operator, repetition):\n",
    "    # Generate jobs with random interarrival times\n",
    "    for jobNumber in range(numberOfJobs):\n",
    "        yield env.timeout(random.uniform(interarrivalTimeMin, interarrivalTimeMax))\n",
    "        Job(env, operator, jobNumber, repetition)"
   ],
   "metadata": {
    "trusted": true,
    "ExecuteTime": {
     "start_time": "2023-05-31T17:14:13.150576Z",
     "end_time": "2023-05-31T17:14:13.180806Z"
    }
   },
   "execution_count": 5,
   "outputs": []
  },
  {
   "cell_type": "markdown",
   "source": [
    "Then, we initialize necessary state variables for our simulation"
   ],
   "metadata": {}
  },
  {
   "cell_type": "code",
   "source": [
    "################### INITIALIZE STATISTICS WHICH ARE NEEDED AFTER ALL RUNS ARE DONE ######################\n",
    "\n",
    "# Create empty arrays to store data for each repetition\n",
    "queueWaitingTimesAll = np.zeros((numberOfRepetitions, numberOfJobs))\n",
    "serviceTimesAll = np.zeros((numberOfRepetitions, numberOfJobs))\n",
    "totalWaitingTimesAll = np.zeros((numberOfRepetitions, numberOfJobs))\n",
    "totalTimeWaitedForAllCustomersAll = np.zeros((numberOfRepetitions, numberOfJobs))\n",
    "averageNumberOfJobsInTheSystemAll = np.zeros((numberOfRepetitions, numberOfJobs))"
   ],
   "metadata": {
    "trusted": true,
    "ExecuteTime": {
     "start_time": "2023-05-31T17:14:13.154696Z",
     "end_time": "2023-05-31T17:14:13.180806Z"
    }
   },
   "execution_count": 6,
   "outputs": []
  },
  {
   "cell_type": "markdown",
   "source": [
    "Then, we run the simulation as follows"
   ],
   "metadata": {}
  },
  {
   "cell_type": "code",
   "source": [
    "################## RUN SIMULATIONS BELOW ##########################\n",
    "\n",
    "# Run the simulation multiple times\n",
    "for repetition in range(numberOfRepetitions):\n",
    "    # Seed the random number generator for reproduconfidenceIntervalbility\n",
    "    random.seed(random.randint(0, 2**32 - 1))\n",
    "\n",
    "    # Initialize arrays for storing simulation data\n",
    "    queueWaitingTimes = np.zeros(numberOfJobs)\n",
    "    serviceTimes = np.zeros(numberOfJobs)\n",
    "    totalWaitingTimes = np.zeros(numberOfJobs)\n",
    "    totalTimeWaitedForAllCustomers = np.zeros(numberOfJobs)\n",
    "    averageNumberOfJobsInTheSystem = np.zeros(numberOfJobs)\n",
    "\n",
    "    env = simpy.Environment()\n",
    "    operator = simpy.Resource(env, capacity=numberOfServers)\n",
    "    env.process(jobGenerator(env, operator, repetition))\n",
    "    env.run()\n",
    "\n",
    "    # Store data for each repetition in the respective arrays\n",
    "    queueWaitingTimesAll[repetition] = queueWaitingTimes\n",
    "    serviceTimesAll[repetition] = serviceTimes\n",
    "    totalWaitingTimesAll[repetition] = totalWaitingTimes\n",
    "    totalTimeWaitedForAllCustomersAll[repetition] = totalTimeWaitedForAllCustomers\n",
    "    averageNumberOfJobsInTheSystemAll[repetition] = averageNumberOfJobsInTheSystem\n",
    "\n",
    "\n",
    "################## RUN SIMULATIONS ABOVE ##########################"
   ],
   "metadata": {
    "trusted": true,
    "ExecuteTime": {
     "start_time": "2023-05-31T17:14:13.162805Z",
     "end_time": "2023-05-31T17:14:39.843459Z"
    },
    "pycharm": {
     "is_executing": true
    }
   },
   "execution_count": null,
   "outputs": []
  },
  {
   "cell_type": "markdown",
   "source": [
    "Then, we calculate the necessary results by the state variables"
   ],
   "metadata": {}
  },
  {
   "cell_type": "code",
   "source": [
    "################## CALCULATE RESPONSES BELOW #########################\n",
    "\n",
    "# Calculate ensemble averages\n",
    "ensembleQueueWaitingTimes = np.mean(queueWaitingTimesAll, axis=0)\n",
    "ensembleServiceTimes = np.mean(serviceTimesAll, axis=0)\n",
    "ensembleTotalWaitingTimes = np.mean(totalWaitingTimesAll, axis=0)\n",
    "ensembleAverageNumberOfJobsInTheSystem = np.mean(averageNumberOfJobsInTheSystemAll, axis=0)\n",
    "ensembleTotalTimeWaitedForAllCustomers = np.mean(totalTimeWaitedForAllCustomers, axis=0)\n",
    "\n",
    "# Calculate confidence intervals\n",
    "confidenceLevel = 0.95\n",
    "alpha = 1 - confidenceLevel\n",
    "tValue = np.abs(stats.t.ppf(alpha / 2, df=numberOfRepetitions - 1))\n",
    "queueWaitingTimesStd = np.std(queueWaitingTimesAll, axis=0)\n",
    "serviceTimesStd = np.std(serviceTimesAll, axis=0)\n",
    "totalWaitingTimesStd = np.std(totalWaitingTimesAll, axis=0)\n",
    "averageNumberOfJobsInTheSystemStd = np.std(averageNumberOfJobsInTheSystemAll, axis=0)\n",
    "confidenceIntervalQueueWaitingTimes = tValue * (queueWaitingTimesStd / np.sqrt(numberOfRepetitions))\n",
    "confidenceIntervalServiceTimes = tValue * (serviceTimesStd / np.sqrt(numberOfRepetitions))\n",
    "confidenceIntervalTotalWaitingTimes = tValue * (totalWaitingTimesStd / np.sqrt(numberOfRepetitions))\n",
    "confidenceIntervalAverageNumberOfJobsInTheSystem = tValue * (averageNumberOfJobsInTheSystemStd / np.sqrt(numberOfRepetitions))\n",
    "\n",
    "\n",
    "################## CALCULATE RESPONSES ABOVE #########################"
   ],
   "metadata": {
    "ExecuteTime": {
     "start_time": "2023-05-31T17:14:39.846462Z",
     "end_time": "2023-05-31T17:14:39.881621Z"
    },
    "pycharm": {
     "is_executing": true
    }
   },
   "execution_count": null,
   "outputs": []
  },
  {
   "cell_type": "markdown",
   "source": [
    "Then, at the end, we plot the results by the following code"
   ],
   "metadata": {}
  },
  {
   "cell_type": "code",
   "source": [
    "################## PLOT NECESSARY STATISTICS BELOW #########################\n",
    "\n",
    "# Plot the ensemble averages with confidence intervals\n",
    "plt.figure()\n",
    "\n",
    "plt.plot(ensembleTotalWaitingTimes, label=\"Ensemble Average of Sojourn Time (W)\")\n",
    "plt.fill_between(range(numberOfJobs), ensembleTotalWaitingTimes - confidenceIntervalTotalWaitingTimes,\n",
    "                 ensembleTotalWaitingTimes + confidenceIntervalTotalWaitingTimes, alpha=0.65)\n",
    "\n",
    "plt.xlabel('Job Number')\n",
    "plt.ylabel('Sojourn Time (W) ')\n",
    "plt.title('Ensemble Averages of Sojourn time with 95% Confidence Intervals')\n",
    "plt.legend()\n",
    "plt.grid(True)\n",
    "\n",
    "\n",
    "plt.figure()\n",
    "\n",
    "plt.plot(ensembleAverageNumberOfJobsInTheSystem, label=\"Average number of people in the system - L(t)\")\n",
    "plt.fill_between(range(numberOfJobs), ensembleAverageNumberOfJobsInTheSystem - confidenceIntervalAverageNumberOfJobsInTheSystem,\n",
    "                 ensembleAverageNumberOfJobsInTheSystem + confidenceIntervalAverageNumberOfJobsInTheSystem, alpha=0.65)\n",
    "\n",
    "plt.xlabel('Job Number')\n",
    "plt.ylabel('Average Number of people in the system - L(t)')\n",
    "plt.title('Ensemble Averages of L(t) with 95% Confidence Intervals')\n",
    "plt.legend()\n",
    "plt.grid(True)\n",
    "plt.show()\n",
    "\n",
    "\n",
    "################## PLOT NECESSARY STATISTICS ABOVE #########################"
   ],
   "metadata": {
    "trusted": true,
    "ExecuteTime": {
     "start_time": "2023-05-31T17:14:39.883622Z",
     "end_time": "2023-05-31T17:14:40.333065Z"
    },
    "pycharm": {
     "is_executing": true
    }
   },
   "execution_count": null,
   "outputs": []
  }
 ]
}
